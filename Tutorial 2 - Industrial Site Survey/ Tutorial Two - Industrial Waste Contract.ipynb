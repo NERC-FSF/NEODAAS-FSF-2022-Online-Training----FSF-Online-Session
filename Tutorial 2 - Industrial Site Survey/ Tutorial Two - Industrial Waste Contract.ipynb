{
 "cells": [
  {
   "cell_type": "markdown",
   "id": "8992a29b",
   "metadata": {},
   "source": [
    "# Tutorial Two -- Industrial Waste Contract\n",
    "\n",
    "An ore smelting company wants to create a report on how the waste materials that they produce can be observed from Sentinel-2 imagery. They have provided you (in the **Data** folder) with a collection of reflectance spectra, collected using an ASD FieldSpec Pro 3 with contact probe attachment in reference to **SRT 44**, and measured in an air conditioned laboratory. They have set their instrument to automatically correct for overlaps and jumps. \n",
    "\n",
    "You are tasked with the following:\n",
    "- To produce, from the reflectance spectra, a PDF output and associated .csv of the averaged, corrected spectra for each type of industrial waste\n",
    "- To convolve the averaged, corrected, grouped spectra for each sample to Sentinel-2 bands\n",
    "- To calculate from the convolved output the values of the Ferrous Minerals Index (FMI) for each group, which is determined from the following equation:\n",
    "\n",
    "$$\n",
    "\\begin{align}\n",
    "FMI = \\dfrac{B_{12}}{B_{8A}} + \\dfrac{B_{3}}{B_{4}}\n",
    "\\end{align}\n",
    "$$\n"
   ]
  },
  {
   "cell_type": "code",
   "execution_count": null,
   "id": "9f0ba4e8",
   "metadata": {},
   "outputs": [],
   "source": []
  }
 ],
 "metadata": {
  "kernelspec": {
   "display_name": "Python 3 (ipykernel)",
   "language": "python",
   "name": "python3"
  },
  "language_info": {
   "codemirror_mode": {
    "name": "ipython",
    "version": 3
   },
   "file_extension": ".py",
   "mimetype": "text/x-python",
   "name": "python",
   "nbconvert_exporter": "python",
   "pygments_lexer": "ipython3",
   "version": "3.10.7"
  }
 },
 "nbformat": 4,
 "nbformat_minor": 5
}
