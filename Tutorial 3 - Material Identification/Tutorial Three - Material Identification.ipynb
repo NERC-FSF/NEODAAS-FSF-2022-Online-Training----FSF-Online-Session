{
 "cells": [
  {
   "cell_type": "markdown",
   "id": "88db2e6a",
   "metadata": {},
   "source": [
    "# Tutorial Three -- Material Identification\n",
    "\n",
    "You have been given a collection of materials numbered 1 to 8 to take reflectance spectra of, but you have been given no information as to what the materials are. You know that that there is one sample each of **acetate**, **alunite**, **black paint sample**, **jarosite**, **kalonite**, **mylar**, **pressboard**, and **talc**. The materials came with a document containing some scraps of technical documentation describing the spectra of the materials, alongside handwritten cryptic notes about the properties of the materials:\n",
    "\n",
    "- **Acetate** : \"Transmissive from 350 nm to 1690 nm, with strongly absorbing feature between 1700 nm to 1720 nm, and again at 2200 nm to 2300 nm\". *Wow, what a drop!*\n",
    "- **Alunite** -- \"The VNIR spectra of alunite... include doublets near 1.4 and 2.2 μm, and the spectrum for alunite includes additional bands near 1.76 and 2.3 μm\" *This one starts off high, but tails off...I wonder why?*\n",
    "- **Black paint sample** -- \"As calibration targets, a black paint or coating is mostly likely used as the dark reference or the darkest point in a calibration curve. In order for the paint or coating to be a good reference, it should have a low as possible reflectance value\" *If a white reflectance panel is a near perfect reflector, what would the spectra of a black reflectance panel look like...?*\n",
    "- **Jarosite** -- \"...amber coloured mineral, a common weathering product of oxidized iron sulfides under acidic conditions...spectral reflectance doublet features typically occur in the 1.4 μm to 1.5 μm, 1.7 μm to 1.75 μm, and 2.25 μm to 2.3 μm regions\" *What an interesting \"hump\"! I've seen it in hematite!* \n",
    "- **Kalonite** -- \"The kaolinite spectrum includes a doublet at 1.39 μm and 1.41 μm... and a doublet at 2.17 μm and 2.21 μm\" *Very similar in features to alunite! But this one seems more reflective? And shifted?*\n",
    "- **Mylar** -- \"Transmissive from 350 nm to 1700 nm, with distinct absorption features between 1620 to 1640 nm\" *I know that Absorption = 1 - (Reflectance + Transmission). If something absorbs something strongly, what does that mean for reflectance...? *\n",
    "- **Pressboard** -- \"Cellulose based material, made up of many layers...in the VNIR-SWIR range, smooth spectra averaging at 20% reflectance\". *I could use this as a 20% reflectance target!*\n",
    "- **Talc** -- \"Smooth, high reflectance throughout, sharp, defined absorption feature at ~1.4 μm\" *Wait, what is that dip?! Did I calibrate the instrument correctly?!*\n",
    "\n",
    "\n",
    "You proceed to take a reflectance spectra of each sample, from 1 to 8.\n",
    "\n",
    "Using the information above, and the reflectance spectra in the **Data** folder, identify which sample is which material. \n",
    "\n",
    "### Tips\n",
    "- Consider the regions noted above\n",
    "- Remember that 1 μm = 1000 nm\n"
   ]
  },
  {
   "cell_type": "code",
   "execution_count": null,
   "id": "8e62de22",
   "metadata": {},
   "outputs": [],
   "source": []
  }
 ],
 "metadata": {
  "kernelspec": {
   "display_name": "Python 3 (ipykernel)",
   "language": "python",
   "name": "python3"
  },
  "language_info": {
   "codemirror_mode": {
    "name": "ipython",
    "version": 3
   },
   "file_extension": ".py",
   "mimetype": "text/x-python",
   "name": "python",
   "nbconvert_exporter": "python",
   "pygments_lexer": "ipython3",
   "version": "3.10.7"
  }
 },
 "nbformat": 4,
 "nbformat_minor": 5
}
