{
 "cells": [
  {
   "cell_type": "markdown",
   "id": "a5351f91",
   "metadata": {},
   "source": [
    "# Tutorial One -- Woodland Survey\n",
    "\n",
    "An ecologist is interested in determining the spectral properties of various woodland species. They collected leaves of various woodland species at a site near Edinburgh n the 20-08-2021. Leaves were collected from oak, birch, hawthorn, elder, bramble, and three invasive species present at the site, Himalayan balsam, rhododendron, and hogweed. Spectra for the leaves were collected using an ASD FieldSpec Pro 4 with contact probe accessory in white reference mode, with reference being to the Spectralon 99.9% reference panel, SRT 44. Measurements were conducted indoors. The spectral data is located in the **Data** folder, and the calibration coefficients for white reference panel SRT 44 are located in **SRT_44.csv**.\n",
    "\n",
    "You are tasked by the ecologist to process the raw .asd files and provide data end products for use. You have four objectives:\n",
    "\n",
    "1. Conduct necessary corrections of the data (such as, if required, interpolation, stitch overlapping, jump correction, and water band removal)\n",
    "2. Collate the spectra into groups according to their species (i.e. 'birch', 'oak') and produce a plot for the average, corrected spectra of rhododendron.\n",
    "3. Produce a table of the Modified Chlorophyll Absorption Ratio Index for each species.\n",
    "\n",
    "### Tips\n",
    "- Consider the instrument that is being used (and where it is being used), check the output for the raw spectra, and look closely at certain wavelength regions. This will inform you of what corrections are required, which aren't, and what wavelength regions are needed to be corrected.\n",
    "- Note the separator character in your files...\n",
    "- Modify the plotting scripts from the main tutorial to give you individual plots for each averaged spectra\n",
    "- To get more information on the FieldSpecUtils package, use `help(\"FieldSpecUtils.Vegetation_Indices\")`\n",
    "- Remember to import your libraries!\n"
   ]
  },
  {
   "cell_type": "code",
   "execution_count": null,
   "id": "f299a968",
   "metadata": {},
   "outputs": [],
   "source": []
  }
 ],
 "metadata": {
  "kernelspec": {
   "display_name": "Python 3 (ipykernel)",
   "language": "python",
   "name": "python3"
  },
  "language_info": {
   "codemirror_mode": {
    "name": "ipython",
    "version": 3
   },
   "file_extension": ".py",
   "mimetype": "text/x-python",
   "name": "python",
   "nbconvert_exporter": "python",
   "pygments_lexer": "ipython3",
   "version": "3.10.7"
  }
 },
 "nbformat": 4,
 "nbformat_minor": 5
}
